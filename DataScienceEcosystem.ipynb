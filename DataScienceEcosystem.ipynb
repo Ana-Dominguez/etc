{
 "cells": [
  {
   "cell_type": "markdown",
   "id": "95bc0541",
   "metadata": {},
   "source": [
    "# Data Science Tools and Ecosystem"
   ]
  },
  {
   "cell_type": "markdown",
   "id": "53b5d863",
   "metadata": {},
   "source": [
    "In this notebook, Data Science Tools and Ecosystem are summarized."
   ]
  },
  {
   "cell_type": "markdown",
   "id": "a065f402",
   "metadata": {},
   "source": [
    "**Objectives:**\n",
    "* list some popular languages used in data science\n",
    "* list some common data science libraries\n",
    "* create a table of 3 data science open source development environments\n",
    "* list a few examples of arithmetic expressions in python"
   ]
  },
  {
   "cell_type": "markdown",
   "id": "7b157418",
   "metadata": {},
   "source": [
    "Some of the popular languages that Data Scientists use are:\n",
    "1. Python\n",
    "2. R\n",
    "3. Julia\n",
    "4. SQL"
   ]
  },
  {
   "cell_type": "markdown",
   "id": "0ed0fed6",
   "metadata": {},
   "source": [
    "Some of the commonly used libraries usedd by Data Scientists include:\n",
    "1. Pandas\n",
    "2. Matplotlib\n",
    "3. Seaborne\n",
    "4. Tensorflow\n",
    "5. PyTorch\n",
    "6. numpy\n",
    "7. scikit-learn\n",
    "8. keras"
   ]
  },
  {
   "attachments": {},
   "cell_type": "markdown",
   "id": "b56587ae",
   "metadata": {},
   "source": [
    "|Data Science Tools|\n",
    "|------|\n",
    "|JupyterLab|\n",
    "|Spyder|\n",
    "|VSCode|"
   ]
  },
  {
   "cell_type": "markdown",
   "id": "f05968df",
   "metadata": {},
   "source": [
    "### Below are a few examples of evaluating arithmetic expressions in Python"
   ]
  },
  {
   "cell_type": "code",
   "execution_count": 2,
   "id": "b70ae141",
   "metadata": {},
   "outputs": [
    {
     "data": {
      "text/plain": [
       "17"
      ]
     },
     "execution_count": 2,
     "metadata": {},
     "output_type": "execute_result"
    }
   ],
   "source": [
    "#This is a simple arithmetic expression to multiply then add integers\n",
    "(3*4)+5"
   ]
  },
  {
   "cell_type": "code",
   "execution_count": 13,
   "id": "7908f534",
   "metadata": {},
   "outputs": [
    {
     "data": {
      "text/plain": [
       "3.3333333333333335"
      ]
     },
     "execution_count": 13,
     "metadata": {},
     "output_type": "execute_result"
    }
   ],
   "source": [
    "#This will convert 200 minutes to hours by dividing by 60\n",
    "200/60"
   ]
  },
  {
   "cell_type": "markdown",
   "id": "290638f0",
   "metadata": {},
   "source": [
    "### Author\n",
    "Ana Dominguez"
   ]
  },
  {
   "cell_type": "code",
   "execution_count": null,
   "id": "5cb43026",
   "metadata": {},
   "outputs": [],
   "source": []
  }
 ],
 "metadata": {
  "kernelspec": {
   "display_name": "Python 3",
   "language": "python",
   "name": "python3"
  },
  "language_info": {
   "codemirror_mode": {
    "name": "ipython",
    "version": 3
   },
   "file_extension": ".py",
   "mimetype": "text/x-python",
   "name": "python",
   "nbconvert_exporter": "python",
   "pygments_lexer": "ipython3",
   "version": "3.8.8"
  }
 },
 "nbformat": 4,
 "nbformat_minor": 5
}
